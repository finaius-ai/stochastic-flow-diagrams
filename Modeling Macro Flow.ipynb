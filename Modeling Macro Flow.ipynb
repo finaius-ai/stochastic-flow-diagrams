{
 "cells": [
  {
   "cell_type": "markdown",
   "metadata": {},
   "source": [
    "## What is a flow system?"
   ]
  },
  {
   "cell_type": "markdown",
   "metadata": {},
   "source": [
    "> In a flow system, one component may receive flow from more than one other component. Although all relationships in a graph are by definition established in pairs, their estimation should not be carried out in pairs, or flow will not bt additive. "
   ]
  },
  {
   "cell_type": "markdown",
   "metadata": {},
   "source": [
    "> In a flow system, each equation determines the value of a variable as a function of multiple other variables. \n",
    "\n",
    "> We estimate the params as a system of dynamic equations. We use PCA to reduce dimensionality of the analysis to logical subsets of variables. "
   ]
  },
  {
   "cell_type": "markdown",
   "metadata": {},
   "source": [
    "> A connection is established if its underlying regressor is statistically significant. "
   ]
  },
  {
   "cell_type": "markdown",
   "metadata": {},
   "source": [
    "Unlike the estimation methods introduced in the paper, we would like to try using Tensorflow Probability since we get GPUs!"
   ]
  },
  {
   "cell_type": "code",
   "execution_count": null,
   "metadata": {},
   "outputs": [],
   "source": []
  }
 ],
 "metadata": {
  "kernelspec": {
   "display_name": "Python 3",
   "language": "python",
   "name": "python3"
  },
  "language_info": {
   "codemirror_mode": {
    "name": "ipython",
    "version": 3
   },
   "file_extension": ".py",
   "mimetype": "text/x-python",
   "name": "python",
   "nbconvert_exporter": "python",
   "pygments_lexer": "ipython3",
   "version": "3.8.3"
  }
 },
 "nbformat": 4,
 "nbformat_minor": 4
}
